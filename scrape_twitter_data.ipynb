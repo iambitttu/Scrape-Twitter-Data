{
  "nbformat": 4,
  "nbformat_minor": 0,
  "metadata": {
    "colab": {
      "provenance": [],
      "authorship_tag": "ABX9TyOl2d11B22KRX29BYouUY7o"
    },
    "kernelspec": {
      "name": "python3",
      "display_name": "Python 3"
    },
    "language_info": {
      "name": "python"
    }
  },
  "cells": [
    {
      "cell_type": "code",
      "execution_count": 15,
      "metadata": {
        "colab": {
          "base_uri": "https://localhost:8080/"
        },
        "id": "gqspTkTzi1N3",
        "outputId": "dfd1c29b-dcc8-4a52-9032-8e7a81eb592d"
      },
      "outputs": [
        {
          "output_type": "stream",
          "name": "stdout",
          "text": [
            "Looking in indexes: https://pypi.org/simple, https://us-python.pkg.dev/colab-wheels/public/simple/\n",
            "Requirement already satisfied: snscrape in /usr/local/lib/python3.8/dist-packages (0.5.0.20230113)\n",
            "Requirement already satisfied: requests[socks] in /usr/local/lib/python3.8/dist-packages (from snscrape) (2.25.1)\n",
            "Requirement already satisfied: beautifulsoup4 in /usr/local/lib/python3.8/dist-packages (from snscrape) (4.6.3)\n",
            "Requirement already satisfied: pytz in /usr/local/lib/python3.8/dist-packages (from snscrape) (2022.7)\n",
            "Requirement already satisfied: filelock in /usr/local/lib/python3.8/dist-packages (from snscrape) (3.9.0)\n",
            "Requirement already satisfied: lxml in /usr/local/lib/python3.8/dist-packages (from snscrape) (4.9.2)\n",
            "Requirement already satisfied: certifi>=2017.4.17 in /usr/local/lib/python3.8/dist-packages (from requests[socks]->snscrape) (2022.12.7)\n",
            "Requirement already satisfied: idna<3,>=2.5 in /usr/local/lib/python3.8/dist-packages (from requests[socks]->snscrape) (2.10)\n",
            "Requirement already satisfied: chardet<5,>=3.0.2 in /usr/local/lib/python3.8/dist-packages (from requests[socks]->snscrape) (4.0.0)\n",
            "Requirement already satisfied: urllib3<1.27,>=1.21.1 in /usr/local/lib/python3.8/dist-packages (from requests[socks]->snscrape) (1.24.3)\n",
            "Requirement already satisfied: PySocks!=1.5.7,>=1.5.6 in /usr/local/lib/python3.8/dist-packages (from requests[socks]->snscrape) (1.7.1)\n"
          ]
        }
      ],
      "source": [
        "pip install snscrape\n"
      ]
    },
    {
      "cell_type": "code",
      "source": [
        "import pandas as pd\n",
        "from tqdm.notebook import tqdm\n",
        "import snscrape.modules.twitter as sntwitter"
      ],
      "metadata": {
        "id": "N9NQQ_csi5jv"
      },
      "execution_count": 16,
      "outputs": []
    },
    {
      "cell_type": "code",
      "source": [
        "scraper = sntwitter.TwitterSearchScraper('#python')"
      ],
      "metadata": {
        "id": "YfI7NCuA8f4L"
      },
      "execution_count": 17,
      "outputs": []
    },
    {
      "cell_type": "code",
      "source": [
        "for tweet in scraper.get_items():\n",
        "  break"
      ],
      "metadata": {
        "id": "p2_Wfyd9CEV_"
      },
      "execution_count": 18,
      "outputs": []
    },
    {
      "cell_type": "code",
      "source": [
        "tweet"
      ],
      "metadata": {
        "colab": {
          "base_uri": "https://localhost:8080/"
        },
        "id": "iJJzZsKSCOc-",
        "outputId": "cf8130b7-8266-479d-a4d8-961f270050db"
      },
      "execution_count": 19,
      "outputs": [
        {
          "output_type": "execute_result",
          "data": {
            "text/plain": [
              "Tweet(url='https://twitter.com/kamikudakun/status/1618461762445275136', date=datetime.datetime(2023, 1, 26, 4, 12, 8, tzinfo=datetime.timezone.utc), rawContent='pyenv内でのpipのセグフォエラー対処法 https://t.co/ovWrA8GKVn #Python #error #pip #pyenv #SegmentationFault', renderedContent='pyenv内でのpipのセグフォエラー対処法 qiita.com/muramasa2/item… #Python #error #pip #pyenv #SegmentationFault', id=1618461762445275136, user=User(username='kamikudakun', id=1479112479422971907, displayname='かみくだく🇺🇦🤝🇷🇺', rawDescription='', renderedDescription='', descriptionLinks=None, verified=False, created=datetime.datetime(2022, 1, 6, 15, 29, 5, tzinfo=datetime.timezone.utc), followersCount=647, friendsCount=0, statusesCount=105542, favouritesCount=2475, listedCount=19, mediaCount=7, location='Osaka', protected=False, link=TextLink(text='qiita.com/relu', url='https://qiita.com/relu', tcourl='https://t.co/Hd4N8HfVMC', indices=(0, 23)), profileImageUrl='https://pbs.twimg.com/profile_images/1516374301145853956/IZoiPdN7_normal.png', profileBannerUrl='https://pbs.twimg.com/profile_banners/1479112479422971907/1650367031', label=None), replyCount=0, retweetCount=0, likeCount=0, quoteCount=0, conversationId=1618461762445275136, lang='ja', source='<a href=\"https://example.com/\" rel=\"nofollow\">かみくだく</a>', sourceUrl='https://example.com/', sourceLabel='かみくだく', links=[TextLink(text='qiita.com/muramasa2/item…', url='https://qiita.com/muramasa2/items/7b5796e8720180ea26ff', tcourl='https://t.co/ovWrA8GKVn', indices=(23, 46))], media=None, retweetedTweet=None, quotedTweet=None, inReplyToTweetId=None, inReplyToUser=None, mentionedUsers=None, coordinates=None, place=None, hashtags=['Python', 'error', 'pip', 'pyenv', 'SegmentationFault'], cashtags=None, card=SummaryCard(title='pyenv内でのpipのセグフォエラー対処法 - Qiita', url='https://qiita.com/muramasa2/items/7b5796e8720180ea26ff', description='実行環境 OS: Ubuntu20.04 pyenv 3.6.9 pyenv内でpip install時のエラー pyenv内でpip installする際に下記のエラーが発生。 コード実行内容とerror内容 $ pip ...', thumbnailUrl='https://pbs.twimg.com/card_img/1618461738797793281/WT5GCvUS?format=jpg&name=orig', siteUser=User(username='Qiita', id=341374118, displayname='Qiita (キータ) 公式', rawDescription='Qiita公式アカウントです。何かありましたら support@qiita.com までご連絡ください :) / Qiita Team @QiitaTeam / Qiita Jobs @QiitaJobs / 人気の投稿 @qiitapoi / Qiitaマイルストーン @qiita_milestone', renderedDescription='Qiita公式アカウントです。何かありましたら support@qiita.com までご連絡ください :) / Qiita Team @QiitaTeam / Qiita Jobs @QiitaJobs / 人気の投稿 @qiitapoi / Qiitaマイルストーン @qiita_milestone', descriptionLinks=None, verified=False, created=datetime.datetime(2011, 7, 24, 7, 54, 14, tzinfo=datetime.timezone.utc), followersCount=43254, friendsCount=4, statusesCount=39831, favouritesCount=31608, listedCount=834, mediaCount=286, location='Tokyo, Japan', protected=False, link=TextLink(text='qiita.com', url='http://qiita.com', tcourl='https://t.co/dsqL3mWnyv', indices=(0, 23)), profileImageUrl='https://pbs.twimg.com/profile_images/1610819875567734785/5kM_BxFL_normal.jpg', profileBannerUrl='https://pbs.twimg.com/profile_banners/341374118/1672884361', label=None), creatorUser=User(username='Muramasa_2', id=1270979457432473601, displayname='Muramasa', rawDescription='Research Scientist https://t.co/zQdxH8WbG5', renderedDescription='Research Scientist github.com/muramasa2', descriptionLinks=[TextLink(text='github.com/muramasa2', url='http://github.com/muramasa2', tcourl='https://t.co/zQdxH8WbG5', indices=(19, 42))], verified=False, created=datetime.datetime(2020, 6, 11, 7, 21, 39, tzinfo=datetime.timezone.utc), followersCount=241, friendsCount=563, statusesCount=2038, favouritesCount=1181, listedCount=4, mediaCount=20, location='日本 東京', protected=False, link=None, profileImageUrl='https://pbs.twimg.com/profile_images/1270981003352260609/NtjDnhiu_normal.jpg', profileBannerUrl=None, label=None)), viewCount=None, vibe=None)"
            ]
          },
          "metadata": {},
          "execution_count": 19
        }
      ]
    },
    {
      "cell_type": "code",
      "source": [],
      "metadata": {
        "id": "M6IqihrWDIpS"
      },
      "execution_count": 19,
      "outputs": []
    },
    {
      "cell_type": "code",
      "source": [
        "scraper = sntwitter.TwitterSearchScraper('#python')\n",
        "\n",
        "tweets = []\n",
        "\n",
        "for i, tweet in enumerate(scraper.get_items()):\n",
        "     data = [tweet.date, tweet.id, tweet.url, tweet.content, tweet.user.username, tweet.replyCount, tweet.likeCount, tweet.lang , tweet.source, tweet.retweetCount]\n",
        "     tweets.append(data)\n",
        "     if i>1000:\n",
        "       break"
      ],
      "metadata": {
        "colab": {
          "base_uri": "https://localhost:8080/"
        },
        "id": "l17z8BgXCVGf",
        "outputId": "df27bebf-c170-46a5-d55e-f9ad47bf1efd"
      },
      "execution_count": 26,
      "outputs": [
        {
          "output_type": "stream",
          "name": "stderr",
          "text": [
            "<ipython-input-26-d072339aa260>:6: FutureWarning: content is deprecated, use rawContent instead\n",
            "  data = [tweet.date, tweet.id, tweet.url, tweet.content, tweet.user.username, tweet.replyCount, tweet.likeCount, tweet.lang , tweet.source, tweet.retweetCount]\n"
          ]
        }
      ]
    },
    {
      "cell_type": "code",
      "source": [
        "len(tweets)"
      ],
      "metadata": {
        "colab": {
          "base_uri": "https://localhost:8080/"
        },
        "id": "3o-gU7k2C3Jx",
        "outputId": "17419361-3846-4de8-b934-7ced9f16abd5"
      },
      "execution_count": 27,
      "outputs": [
        {
          "output_type": "execute_result",
          "data": {
            "text/plain": [
              "1002"
            ]
          },
          "metadata": {},
          "execution_count": 27
        }
      ]
    },
    {
      "cell_type": "code",
      "source": [
        "tweet_df = pd.DataFrame(tweets, columns =['date', 'id', 'url', 'content', 'username', 'reply_count', 'like_count','language', 'source', 'retweet_count'])"
      ],
      "metadata": {
        "id": "_RDZDePqC8MN"
      },
      "execution_count": 28,
      "outputs": []
    },
    {
      "cell_type": "code",
      "source": [
        "tweet_df"
      ],
      "metadata": {
        "colab": {
          "base_uri": "https://localhost:8080/",
          "height": 696
        },
        "id": "cSwM2885IPxm",
        "outputId": "69930b15-8dd8-4913-bf62-29eb925c928e"
      },
      "execution_count": 29,
      "outputs": [
        {
          "output_type": "execute_result",
          "data": {
            "text/plain": [
              "                          date                   id  \\\n",
              "0    2023-01-26 04:14:22+00:00  1618462324385275905   \n",
              "1    2023-01-26 04:13:00+00:00  1618461979697639425   \n",
              "2    2023-01-26 04:12:08+00:00  1618461762445275136   \n",
              "3    2023-01-26 04:10:10+00:00  1618461268532240385   \n",
              "4    2023-01-26 04:10:07+00:00  1618461256440250369   \n",
              "...                        ...                  ...   \n",
              "997  2023-01-25 19:17:04+00:00  1618327107616280578   \n",
              "998  2023-01-25 19:17:00+00:00  1618327092365611011   \n",
              "999  2023-01-25 19:16:50+00:00  1618327051403927560   \n",
              "1000 2023-01-25 19:15:31+00:00  1618326718518796309   \n",
              "1001 2023-01-25 19:15:16+00:00  1618326657059659814   \n",
              "\n",
              "                                                    url  \\\n",
              "0     https://twitter.com/comidoc/status/16184623243...   \n",
              "1     https://twitter.com/Course_club/status/1618461...   \n",
              "2     https://twitter.com/kamikudakun/status/1618461...   \n",
              "3     https://twitter.com/infosec_coder/status/16184...   \n",
              "4     https://twitter.com/mhPZPibVjOUsZaZ/status/161...   \n",
              "...                                                 ...   \n",
              "997   https://twitter.com/DanielEngineer_/status/161...   \n",
              "998   https://twitter.com/asigosec_tsb/status/161832...   \n",
              "999   https://twitter.com/UCouponsMe/status/16183270...   \n",
              "1000  https://twitter.com/UCouponsMe/status/16183267...   \n",
              "1001  https://twitter.com/VeilleCyber3/status/161832...   \n",
              "\n",
              "                                                content         username  \\\n",
              "0     JavaScript And PHP And Python Programming Comp...          comidoc   \n",
              "1     10+ 100%OFF-Arabic Udemy Courses\\n#udemy #arab...      Course_club   \n",
              "2     pyenv内でのpipのセグフォエラー対処法 https://t.co/ovWrA8GKVn...      kamikudakun   \n",
              "3     Python script - Grade average program: Weighte...    infosec_coder   \n",
              "4     クイズ\\n\\nPython で定数浮動小数点値 3.2 × 10 -12をどのように表現しま...  mhPZPibVjOUsZaZ   \n",
              "...                                                 ...              ...   \n",
              "997                  https://t.co/KAY6tBplxV\\n\\n#Python  DanielEngineer_   \n",
              "998   How to perform ordinal encoding using sklearn?...     asigosec_tsb   \n",
              "999   AutoML Simplified https://t.co/9FNFb2ln5Y #mac...       UCouponsMe   \n",
              "1000  Survival English – Elementary https://t.co/MEg...       UCouponsMe   \n",
              "1001  A #VC’s perspective on #DeepTech fundraising i...     VeilleCyber3   \n",
              "\n",
              "      reply_count  like_count language  \\\n",
              "0               0           2       en   \n",
              "1               0           2       en   \n",
              "2               0           0       ja   \n",
              "3               0           0       en   \n",
              "4               0           0       ja   \n",
              "...           ...         ...      ...   \n",
              "997             0           0      qme   \n",
              "998             0           0       en   \n",
              "999             0           1       en   \n",
              "1000            0           1       en   \n",
              "1001            0           4       en   \n",
              "\n",
              "                                                 source  retweet_count  \n",
              "0     <a href=\"https://help.twitter.com/en/using-twi...              1  \n",
              "1     <a href=\"https://mobile.twitter.com\" rel=\"nofo...              2  \n",
              "2     <a href=\"https://example.com/\" rel=\"nofollow\">...              0  \n",
              "3     <a href=\"https://www.hootsuite.com\" rel=\"nofol...              0  \n",
              "4     <a href=\"http://twittbot.net/\" rel=\"nofollow\">...              1  \n",
              "...                                                 ...            ...  \n",
              "997   <a href=\"https://mobile.twitter.com\" rel=\"nofo...              0  \n",
              "998   <a href=\"https://buffer.com\" rel=\"nofollow\">Bu...              0  \n",
              "999   <a href=\"https://revive.social/\" rel=\"nofollow...              0  \n",
              "1000  <a href=\"https://revive.social/\" rel=\"nofollow...              0  \n",
              "1001  <a href=\"https://www.semrush.com/\" rel=\"nofoll...              4  \n",
              "\n",
              "[1002 rows x 10 columns]"
            ],
            "text/html": [
              "\n",
              "  <div id=\"df-8a689758-1745-4b71-8d06-a6e9fb2d2503\">\n",
              "    <div class=\"colab-df-container\">\n",
              "      <div>\n",
              "<style scoped>\n",
              "    .dataframe tbody tr th:only-of-type {\n",
              "        vertical-align: middle;\n",
              "    }\n",
              "\n",
              "    .dataframe tbody tr th {\n",
              "        vertical-align: top;\n",
              "    }\n",
              "\n",
              "    .dataframe thead th {\n",
              "        text-align: right;\n",
              "    }\n",
              "</style>\n",
              "<table border=\"1\" class=\"dataframe\">\n",
              "  <thead>\n",
              "    <tr style=\"text-align: right;\">\n",
              "      <th></th>\n",
              "      <th>date</th>\n",
              "      <th>id</th>\n",
              "      <th>url</th>\n",
              "      <th>content</th>\n",
              "      <th>username</th>\n",
              "      <th>reply_count</th>\n",
              "      <th>like_count</th>\n",
              "      <th>language</th>\n",
              "      <th>source</th>\n",
              "      <th>retweet_count</th>\n",
              "    </tr>\n",
              "  </thead>\n",
              "  <tbody>\n",
              "    <tr>\n",
              "      <th>0</th>\n",
              "      <td>2023-01-26 04:14:22+00:00</td>\n",
              "      <td>1618462324385275905</td>\n",
              "      <td>https://twitter.com/comidoc/status/16184623243...</td>\n",
              "      <td>JavaScript And PHP And Python Programming Comp...</td>\n",
              "      <td>comidoc</td>\n",
              "      <td>0</td>\n",
              "      <td>2</td>\n",
              "      <td>en</td>\n",
              "      <td>&lt;a href=\"https://help.twitter.com/en/using-twi...</td>\n",
              "      <td>1</td>\n",
              "    </tr>\n",
              "    <tr>\n",
              "      <th>1</th>\n",
              "      <td>2023-01-26 04:13:00+00:00</td>\n",
              "      <td>1618461979697639425</td>\n",
              "      <td>https://twitter.com/Course_club/status/1618461...</td>\n",
              "      <td>10+ 100%OFF-Arabic Udemy Courses\\n#udemy #arab...</td>\n",
              "      <td>Course_club</td>\n",
              "      <td>0</td>\n",
              "      <td>2</td>\n",
              "      <td>en</td>\n",
              "      <td>&lt;a href=\"https://mobile.twitter.com\" rel=\"nofo...</td>\n",
              "      <td>2</td>\n",
              "    </tr>\n",
              "    <tr>\n",
              "      <th>2</th>\n",
              "      <td>2023-01-26 04:12:08+00:00</td>\n",
              "      <td>1618461762445275136</td>\n",
              "      <td>https://twitter.com/kamikudakun/status/1618461...</td>\n",
              "      <td>pyenv内でのpipのセグフォエラー対処法 https://t.co/ovWrA8GKVn...</td>\n",
              "      <td>kamikudakun</td>\n",
              "      <td>0</td>\n",
              "      <td>0</td>\n",
              "      <td>ja</td>\n",
              "      <td>&lt;a href=\"https://example.com/\" rel=\"nofollow\"&gt;...</td>\n",
              "      <td>0</td>\n",
              "    </tr>\n",
              "    <tr>\n",
              "      <th>3</th>\n",
              "      <td>2023-01-26 04:10:10+00:00</td>\n",
              "      <td>1618461268532240385</td>\n",
              "      <td>https://twitter.com/infosec_coder/status/16184...</td>\n",
              "      <td>Python script - Grade average program: Weighte...</td>\n",
              "      <td>infosec_coder</td>\n",
              "      <td>0</td>\n",
              "      <td>0</td>\n",
              "      <td>en</td>\n",
              "      <td>&lt;a href=\"https://www.hootsuite.com\" rel=\"nofol...</td>\n",
              "      <td>0</td>\n",
              "    </tr>\n",
              "    <tr>\n",
              "      <th>4</th>\n",
              "      <td>2023-01-26 04:10:07+00:00</td>\n",
              "      <td>1618461256440250369</td>\n",
              "      <td>https://twitter.com/mhPZPibVjOUsZaZ/status/161...</td>\n",
              "      <td>クイズ\\n\\nPython で定数浮動小数点値 3.2 × 10 -12をどのように表現しま...</td>\n",
              "      <td>mhPZPibVjOUsZaZ</td>\n",
              "      <td>0</td>\n",
              "      <td>0</td>\n",
              "      <td>ja</td>\n",
              "      <td>&lt;a href=\"http://twittbot.net/\" rel=\"nofollow\"&gt;...</td>\n",
              "      <td>1</td>\n",
              "    </tr>\n",
              "    <tr>\n",
              "      <th>...</th>\n",
              "      <td>...</td>\n",
              "      <td>...</td>\n",
              "      <td>...</td>\n",
              "      <td>...</td>\n",
              "      <td>...</td>\n",
              "      <td>...</td>\n",
              "      <td>...</td>\n",
              "      <td>...</td>\n",
              "      <td>...</td>\n",
              "      <td>...</td>\n",
              "    </tr>\n",
              "    <tr>\n",
              "      <th>997</th>\n",
              "      <td>2023-01-25 19:17:04+00:00</td>\n",
              "      <td>1618327107616280578</td>\n",
              "      <td>https://twitter.com/DanielEngineer_/status/161...</td>\n",
              "      <td>https://t.co/KAY6tBplxV\\n\\n#Python</td>\n",
              "      <td>DanielEngineer_</td>\n",
              "      <td>0</td>\n",
              "      <td>0</td>\n",
              "      <td>qme</td>\n",
              "      <td>&lt;a href=\"https://mobile.twitter.com\" rel=\"nofo...</td>\n",
              "      <td>0</td>\n",
              "    </tr>\n",
              "    <tr>\n",
              "      <th>998</th>\n",
              "      <td>2023-01-25 19:17:00+00:00</td>\n",
              "      <td>1618327092365611011</td>\n",
              "      <td>https://twitter.com/asigosec_tsb/status/161832...</td>\n",
              "      <td>How to perform ordinal encoding using sklearn?...</td>\n",
              "      <td>asigosec_tsb</td>\n",
              "      <td>0</td>\n",
              "      <td>0</td>\n",
              "      <td>en</td>\n",
              "      <td>&lt;a href=\"https://buffer.com\" rel=\"nofollow\"&gt;Bu...</td>\n",
              "      <td>0</td>\n",
              "    </tr>\n",
              "    <tr>\n",
              "      <th>999</th>\n",
              "      <td>2023-01-25 19:16:50+00:00</td>\n",
              "      <td>1618327051403927560</td>\n",
              "      <td>https://twitter.com/UCouponsMe/status/16183270...</td>\n",
              "      <td>AutoML Simplified https://t.co/9FNFb2ln5Y #mac...</td>\n",
              "      <td>UCouponsMe</td>\n",
              "      <td>0</td>\n",
              "      <td>1</td>\n",
              "      <td>en</td>\n",
              "      <td>&lt;a href=\"https://revive.social/\" rel=\"nofollow...</td>\n",
              "      <td>0</td>\n",
              "    </tr>\n",
              "    <tr>\n",
              "      <th>1000</th>\n",
              "      <td>2023-01-25 19:15:31+00:00</td>\n",
              "      <td>1618326718518796309</td>\n",
              "      <td>https://twitter.com/UCouponsMe/status/16183267...</td>\n",
              "      <td>Survival English – Elementary https://t.co/MEg...</td>\n",
              "      <td>UCouponsMe</td>\n",
              "      <td>0</td>\n",
              "      <td>1</td>\n",
              "      <td>en</td>\n",
              "      <td>&lt;a href=\"https://revive.social/\" rel=\"nofollow...</td>\n",
              "      <td>0</td>\n",
              "    </tr>\n",
              "    <tr>\n",
              "      <th>1001</th>\n",
              "      <td>2023-01-25 19:15:16+00:00</td>\n",
              "      <td>1618326657059659814</td>\n",
              "      <td>https://twitter.com/VeilleCyber3/status/161832...</td>\n",
              "      <td>A #VC’s perspective on #DeepTech fundraising i...</td>\n",
              "      <td>VeilleCyber3</td>\n",
              "      <td>0</td>\n",
              "      <td>4</td>\n",
              "      <td>en</td>\n",
              "      <td>&lt;a href=\"https://www.semrush.com/\" rel=\"nofoll...</td>\n",
              "      <td>4</td>\n",
              "    </tr>\n",
              "  </tbody>\n",
              "</table>\n",
              "<p>1002 rows × 10 columns</p>\n",
              "</div>\n",
              "      <button class=\"colab-df-convert\" onclick=\"convertToInteractive('df-8a689758-1745-4b71-8d06-a6e9fb2d2503')\"\n",
              "              title=\"Convert this dataframe to an interactive table.\"\n",
              "              style=\"display:none;\">\n",
              "        \n",
              "  <svg xmlns=\"http://www.w3.org/2000/svg\" height=\"24px\"viewBox=\"0 0 24 24\"\n",
              "       width=\"24px\">\n",
              "    <path d=\"M0 0h24v24H0V0z\" fill=\"none\"/>\n",
              "    <path d=\"M18.56 5.44l.94 2.06.94-2.06 2.06-.94-2.06-.94-.94-2.06-.94 2.06-2.06.94zm-11 1L8.5 8.5l.94-2.06 2.06-.94-2.06-.94L8.5 2.5l-.94 2.06-2.06.94zm10 10l.94 2.06.94-2.06 2.06-.94-2.06-.94-.94-2.06-.94 2.06-2.06.94z\"/><path d=\"M17.41 7.96l-1.37-1.37c-.4-.4-.92-.59-1.43-.59-.52 0-1.04.2-1.43.59L10.3 9.45l-7.72 7.72c-.78.78-.78 2.05 0 2.83L4 21.41c.39.39.9.59 1.41.59.51 0 1.02-.2 1.41-.59l7.78-7.78 2.81-2.81c.8-.78.8-2.07 0-2.86zM5.41 20L4 18.59l7.72-7.72 1.47 1.35L5.41 20z\"/>\n",
              "  </svg>\n",
              "      </button>\n",
              "      \n",
              "  <style>\n",
              "    .colab-df-container {\n",
              "      display:flex;\n",
              "      flex-wrap:wrap;\n",
              "      gap: 12px;\n",
              "    }\n",
              "\n",
              "    .colab-df-convert {\n",
              "      background-color: #E8F0FE;\n",
              "      border: none;\n",
              "      border-radius: 50%;\n",
              "      cursor: pointer;\n",
              "      display: none;\n",
              "      fill: #1967D2;\n",
              "      height: 32px;\n",
              "      padding: 0 0 0 0;\n",
              "      width: 32px;\n",
              "    }\n",
              "\n",
              "    .colab-df-convert:hover {\n",
              "      background-color: #E2EBFA;\n",
              "      box-shadow: 0px 1px 2px rgba(60, 64, 67, 0.3), 0px 1px 3px 1px rgba(60, 64, 67, 0.15);\n",
              "      fill: #174EA6;\n",
              "    }\n",
              "\n",
              "    [theme=dark] .colab-df-convert {\n",
              "      background-color: #3B4455;\n",
              "      fill: #D2E3FC;\n",
              "    }\n",
              "\n",
              "    [theme=dark] .colab-df-convert:hover {\n",
              "      background-color: #434B5C;\n",
              "      box-shadow: 0px 1px 3px 1px rgba(0, 0, 0, 0.15);\n",
              "      filter: drop-shadow(0px 1px 2px rgba(0, 0, 0, 0.3));\n",
              "      fill: #FFFFFF;\n",
              "    }\n",
              "  </style>\n",
              "\n",
              "      <script>\n",
              "        const buttonEl =\n",
              "          document.querySelector('#df-8a689758-1745-4b71-8d06-a6e9fb2d2503 button.colab-df-convert');\n",
              "        buttonEl.style.display =\n",
              "          google.colab.kernel.accessAllowed ? 'block' : 'none';\n",
              "\n",
              "        async function convertToInteractive(key) {\n",
              "          const element = document.querySelector('#df-8a689758-1745-4b71-8d06-a6e9fb2d2503');\n",
              "          const dataTable =\n",
              "            await google.colab.kernel.invokeFunction('convertToInteractive',\n",
              "                                                     [key], {});\n",
              "          if (!dataTable) return;\n",
              "\n",
              "          const docLinkHtml = 'Like what you see? Visit the ' +\n",
              "            '<a target=\"_blank\" href=https://colab.research.google.com/notebooks/data_table.ipynb>data table notebook</a>'\n",
              "            + ' to learn more about interactive tables.';\n",
              "          element.innerHTML = '';\n",
              "          dataTable['output_type'] = 'display_data';\n",
              "          await google.colab.output.renderOutput(dataTable, element);\n",
              "          const docLink = document.createElement('div');\n",
              "          docLink.innerHTML = docLinkHtml;\n",
              "          element.appendChild(docLink);\n",
              "        }\n",
              "      </script>\n",
              "    </div>\n",
              "  </div>\n",
              "  "
            ]
          },
          "metadata": {},
          "execution_count": 29
        }
      ]
    },
    {
      "cell_type": "code",
      "source": [
        "tweet_df.to_csv('python-tweets.csv', index = True)"
      ],
      "metadata": {
        "id": "PFcrD-YyIvun"
      },
      "execution_count": 30,
      "outputs": []
    },
    {
      "cell_type": "code",
      "source": [],
      "metadata": {
        "id": "xH9i3pRNJJ0V"
      },
      "execution_count": 24,
      "outputs": []
    }
  ]
}